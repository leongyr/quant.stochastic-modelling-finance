{
 "cells": [
  {
   "cell_type": "markdown",
   "id": "38c5f303-8a85-4254-8e72-f1cc875c9827",
   "metadata": {},
   "source": [
    "# Dynamic Hedging"
   ]
  },
  {
   "cell_type": "markdown",
   "id": "acb06fdb-710d-4b63-ba92-1f0b38b7d485",
   "metadata": {},
   "source": [
    "In dynamic hedging, the hedger rehedges at discrete, evenly spaced time intervals as the underlying stock changes. In this exercise, it is assumed that the underlying stock price evolves lognormally with a constant volatility σ per the Black Scholes model.\n",
    "\n",
    "The Black Scholes formula postulates that if properly hedged, the hedger should end up with a final profit of zero. A replication error occurs when the final value deviates from zero.\n",
    "\n",
    "Reference: http://pricing.free.fr/docs/when_you_cannot_hedge.pdf"
   ]
  },
  {
   "cell_type": "markdown",
   "id": "50e90678-4261-4f1a-ab40-26a863b953f4",
   "metadata": {},
   "source": [
    "## Import Libraries"
   ]
  },
  {
   "cell_type": "code",
   "execution_count": 1,
   "id": "5531adad-d2c8-4213-b60a-3d5b77ec7fa4",
   "metadata": {},
   "outputs": [],
   "source": [
    "import numpy as np\n",
    "import pandas as pd\n",
    "import matplotlib.pyplot as plt\n",
    "from matplotlib.ticker import PercentFormatter\n",
    "import datetime as dt\n",
    "\n",
    "from scipy.stats import norm\n",
    "from scipy.optimize import brentq\n",
    "from scipy.optimize import least_squares\n",
    "from scipy.integrate import quad\n",
    "\n",
    "import warnings\n",
    "warnings.filterwarnings('ignore')"
   ]
  },
  {
   "cell_type": "markdown",
   "id": "f9d1e328-bd11-4aae-aab9-9b3238ef270d",
   "metadata": {},
   "source": [
    "## Delta Hedging"
   ]
  },
  {
   "cell_type": "markdown",
   "id": "16675c31-4f34-4cf2-8b5e-4a2cd6ad012a",
   "metadata": {},
   "source": [
    "Black-Scholes introduced the notion of dynamic delta hedging - by executing delta hedges instantaneously, we ensure that our portfolio is delta neutral, and consequently hedged the exposure of our call position through a combination of the underlying stock and risk-free bond. \n",
    "\n",
    "The equation for the hedged portfolio is given by:\n",
    "$$V_{t} = \\phi_{t}S_{t} + \\psi_{t}B_{t}$$\n",
    "\n",
    "where \n",
    "$$\\phi_{t} = \\Delta_{t} = \\frac{\\partial C}{\\partial S} = \\Phi\\left(\\frac{\\log\\frac{S}{K}+\\left(r+\\frac{\\sigma^2}{2}\\right)T}{\\sigma\\sqrt{T}}\\right)$$\n",
    "\n",
    "and\n",
    "$$\\psi_{t}B_{t} = -Ke^{-rT}\\Phi\\left(\\frac{\\log\\frac{S}{K}+\\left(r-\\frac{\\sigma^2}{2}\\right)T}{\\sigma\\sqrt{T}}\\right)$$"
   ]
  },
  {
   "cell_type": "code",
   "execution_count": 2,
   "id": "8a643371-37d5-4e8b-ba3e-e12fdfd1e850",
   "metadata": {},
   "outputs": [],
   "source": [
    "def phi(S, K, r, sigma, T):\n",
    "    d1 = (np.log(S/K)+(r+sigma**2/2)*T) / (sigma*np.sqrt(T))\n",
    "    return norm.cdf(d1)\n",
    "\n",
    "def psi_Bt(S, K, r, sigma, T):\n",
    "    d1 = (np.log(S/K)+(r+sigma**2/2)*T) / (sigma*np.sqrt(T))\n",
    "    d2 = d1 - sigma*np.sqrt(T)\n",
    "    return -K*np.exp(-r*T)*norm.cdf(d2)"
   ]
  },
  {
   "cell_type": "markdown",
   "id": "18f581d6-719f-4e33-a676-d6996f73f35d",
   "metadata": {},
   "source": [
    "## Hedging Error"
   ]
  },
  {
   "cell_type": "markdown",
   "id": "06594078-1f62-4015-9a96-786502412f55",
   "metadata": {},
   "source": [
    "For this Monte Carlo simulation, the effect of dropping Black Scholes key assumption of continuous hedging is examined. With discrete instead of continuous rebalancing, the hedge will be imperfect and result in an inexact replication, since the market price of stock and bonds will change over time. This imperfection may sometimes result in gains, and other times in losses. As the frequency of hedging increases, it is expected that this error should become smaller."
   ]
  },
  {
   "cell_type": "code",
   "execution_count": 3,
   "id": "c9a21512-6a99-4d10-bea7-deb1fed275a1",
   "metadata": {},
   "outputs": [],
   "source": [
    "def calculate_hedging_error(T, blackscholespath, maturity, K, r, sigma, dt):\n",
    "    \"\"\"\n",
    "    Calculates the hedging errors for a list of simulated Black-Scholes paths\n",
    "\n",
    "    Parameters\n",
    "    ----------\n",
    "    T: Array[float]\n",
    "    Array of discrete hedging time intervals\n",
    "\n",
    "    blackscholespath: Array[Array[float]]\n",
    "    Array of stock price processes each representing a single simulated stock price path\n",
    "\n",
    "    maturity: float\n",
    "    Option time to maturity (in years)\n",
    "\n",
    "    K: float\n",
    "    Strike price\n",
    "\n",
    "    r: float\n",
    "    Discount rate\n",
    "\n",
    "    sigma: float\n",
    "    Underlying stock price volatility\n",
    "\n",
    "    dt: float\n",
    "    Remaining time to maturity (in years)\n",
    "\n",
    "    Returns\n",
    "    -------\n",
    "    errors: Array[Array[float]]\n",
    "    Returns a 2D-array of hedging errors at each discrete hedging point for all simulated paths\n",
    "    \"\"\"\n",
    "    errors = np.zeros((len(blackscholespath), len(T)))\n",
    "\n",
    "    for idx, time_step in np.ndenumerate(T):\n",
    "        # Calculate current stock and bond position at each hedge interval\n",
    "        # for all simulated stock price paths\n",
    "        curr_phi = phi(blackscholespath[ : , idx[0]],\n",
    "                       K,\n",
    "                       r,\n",
    "                       sigma,\n",
    "                       maturity-time_step)\n",
    "        stock_pos = curr_phi * blackscholespath[ : , idx[0]]\n",
    "        bond_pos = psi_Bt(blackscholespath[ : , idx[0]],\n",
    "                          K,\n",
    "                          r,\n",
    "                          sigma,\n",
    "                          maturity-time_step)\n",
    "        # Calculate the hedging error between current and previous hedge interval\n",
    "        # for all simulated stock price paths\n",
    "        if idx[0] == 0:\n",
    "            errors[ : , idx[0]] = 0.0\n",
    "        else:\n",
    "             errors[ : , idx[0]] = ((prev_phi*blackscholespath[ : , idx[0]] - stock_pos) +\n",
    "                                    (prev_bond_pos*np.exp(r*dt) - bond_pos)\n",
    "                                   )\n",
    "        prev_phi = curr_phi\n",
    "        prev_bond_pos = bond_pos\n",
    "\n",
    "    return errors"
   ]
  },
  {
   "cell_type": "markdown",
   "id": "fcddf278-cc1f-4151-be94-837247eecd35",
   "metadata": {},
   "source": [
    "### Parameters"
   ]
  },
  {
   "cell_type": "code",
   "execution_count": 4,
   "id": "e9a8864d-3cc9-4f49-93f3-68f761fa26e0",
   "metadata": {},
   "outputs": [],
   "source": [
    "maturity = 1/12\n",
    "r = 0.05\n",
    "S0 = 100.0\n",
    "K = 100.0\n",
    "sigma = 0.2\n",
    "\n",
    "PATHS = 50000\n",
    "HEDGES_NUM = [21, 84]"
   ]
  },
  {
   "cell_type": "markdown",
   "id": "7e8ead53-4d62-4c1d-8f56-31560f6bae3c",
   "metadata": {},
   "source": [
    "### Functions"
   ]
  },
  {
   "cell_type": "code",
   "execution_count": 5,
   "id": "739998e8-a998-44d0-ad6f-e26b582a314d",
   "metadata": {},
   "outputs": [],
   "source": [
    "def simulate_Brownian_Motion(paths, steps, T):\n",
    "    \"\"\"\n",
    "    Simulates Brownian Motion paths over a period with discrete steps.\n",
    "\n",
    "    Parameters\n",
    "    ----------\n",
    "    paths: int\n",
    "    Number of desired Brownian Motion paths\n",
    "\n",
    "    steps: int\n",
    "    Number of discrete intervals across time period\n",
    "\n",
    "    T: float\n",
    "    Time duration (in years)\n",
    "\n",
    "    Returns\n",
    "    -------\n",
    "    t, simulated_motion: Array[float], Array[Array[float]]\n",
    "    Returns an array of discrete intervals and a 2D-array of simulated Brownian Motion paths\n",
    "    \"\"\"\n",
    "    deltaT = T/steps\n",
    "    t = np.linspace(0, T, steps+1)\n",
    "    X = np.c_[np.zeros((paths, 1)),\n",
    "              np.random.randn(paths, steps)]\n",
    "    simulated_motion = np.cumsum(np.sqrt(deltaT) * X, axis=1)\n",
    "    return t, simulated_motion"
   ]
  },
  {
   "cell_type": "code",
   "execution_count": 6,
   "id": "e2a2ef71-0212-4a6d-bf21-d8042025c2b4",
   "metadata": {},
   "outputs": [],
   "source": [
    "def BlackScholesCall(S, sigma, K, r, T):\n",
    "    d1 = (np.log(S/K) + (r+0.5*(sigma**2))*T) / (np.sqrt(T) * sigma)\n",
    "    d2 = d1 - np.sqrt(T) * sigma\n",
    "    return S * norm.cdf(d1) - K * np.exp(-r * T) * norm.cdf(d2)"
   ]
  },
  {
   "cell_type": "markdown",
   "id": "0276eb14-2aa1-4dae-ba44-de0c8e24fce1",
   "metadata": {},
   "source": [
    "### Hedge for N = 21 and N = 84"
   ]
  },
  {
   "cell_type": "markdown",
   "id": "74321f45-07d0-42e4-b779-d09d39f759a6",
   "metadata": {},
   "source": [
    "A comparison between one versus four hedges per day, assuming 21 trading days in a month."
   ]
  },
  {
   "cell_type": "code",
   "execution_count": 7,
   "id": "2fc86126-db66-4eaf-9729-31997350472f",
   "metadata": {},
   "outputs": [],
   "source": [
    "hedging_error = {}\n",
    "\n",
    "for hedges in HEDGES_NUM:\n",
    "    dt = maturity / hedges\n",
    "    \n",
    "    # Simulate stock price process\n",
    "    T, W_T = simulate_Brownian_Motion(PATHS, hedges, maturity)\n",
    "    blackscholespath = S0 * np.exp((r-sigma**2/2)*T + sigma*W_T)\n",
    "    \n",
    "    # Calculate the hedged portfolio error for simulated stock price processes for each n hedge times\n",
    "    hedging_error[f\"{hedges}\"] = calculate_hedging_error(T, blackscholespath, maturity, K, r, sigma, dt)"
   ]
  },
  {
   "cell_type": "code",
   "execution_count": 8,
   "id": "87e60d4f-1e27-418b-b0d6-b0c1eacc8b52",
   "metadata": {},
   "outputs": [
    {
     "data": {
      "image/png": "[encoded data removed]",
      "text/plain": [
       "<Figure size 1100x400 with 2 Axes>"
      ]
     },
     "metadata": {},
     "output_type": "display_data"
    }
   ],
   "source": [
    "plt.figure(figsize = (11,4))\n",
    "plot_num = 1\n",
    "for N, errors in hedging_error.items():\n",
    "    plt.subplot(1,2,plot_num)\n",
    "    plt.hist(errors.sum(axis = 1),\n",
    "             weights = np.ones(len(errors.sum(axis=1)))/len(errors.sum(axis=1)),\n",
    "             bins = np.linspace(-2,2,40)\n",
    "            )\n",
    "    plt.title(f'Histogram of Hedging Error for \\n{N} Rebalancing Trades')\n",
    "    plt.xlabel('Final Profit/Loss')\n",
    "    plt.ylabel('Frequency')\n",
    "    plt.yticks(np.arange(0,0.3,0.05))\n",
    "    plt.gca().yaxis.set_major_formatter(PercentFormatter(1))\n",
    "    plot_num += 1"
   ]
  },
  {
   "cell_type": "markdown",
   "id": "46bde80a-a37c-4790-8e5a-be9ad3235728",
   "metadata": {},
   "source": [
    "## Results"
   ]
  },
  {
   "cell_type": "markdown",
   "id": "71a9444b-36d7-49de-aaf7-87d3b073a2b1",
   "metadata": {},
   "source": [
    "The results show that the mean and standard deviation of hedging errors reduce (tend towards 0) as the hedging frequency increases."
   ]
  },
  {
   "cell_type": "code",
   "execution_count": 9,
   "id": "3d6e9d3f-4b16-4421-99ca-40ae9977ad22",
   "metadata": {},
   "outputs": [],
   "source": [
    "mean_PL = np.zeros(len(HEDGES_NUM))\n",
    "std_PL = np.zeros(len(HEDGES_NUM))\n",
    "std_option_premium = np.zeros(len(HEDGES_NUM))\n",
    "\n",
    "BS_option_price = BlackScholesCall(S0, sigma, K, r, maturity)\n",
    "\n",
    "for idx, (N, errors) in enumerate(hedging_error.items()):\n",
    "    mean_PL[idx] = errors.sum(axis = 1).mean()\n",
    "    std_PL[idx] = errors.sum(axis = 1).std()\n",
    "    std_option_premium[idx] = std_PL[idx]/BS_option_price*100"
   ]
  },
  {
   "cell_type": "code",
   "execution_count": 10,
   "id": "48523286-5456-4e61-a389-97f7a84e149e",
   "metadata": {},
   "outputs": [
    {
     "data": {
      "text/html": [
       "<div>\n",
       "<style scoped>\n",
       "    .dataframe tbody tr th:only-of-type {\n",
       "        vertical-align: middle;\n",
       "    }\n",
       "\n",
       "    .dataframe tbody tr th {\n",
       "        vertical-align: top;\n",
       "    }\n",
       "\n",
       "    .dataframe thead th {\n",
       "        text-align: right;\n",
       "    }\n",
       "</style>\n",
       "<table border=\"1\" class=\"dataframe\">\n",
       "  <thead>\n",
       "    <tr style=\"text-align: right;\">\n",
       "      <th></th>\n",
       "      <th>Hedges</th>\n",
       "      <th>Mean PL</th>\n",
       "      <th>Standard Deviation of PL</th>\n",
       "      <th>Standard Deviation of P&amp;L (% option premium)</th>\n",
       "    </tr>\n",
       "  </thead>\n",
       "  <tbody>\n",
       "    <tr>\n",
       "      <th>0</th>\n",
       "      <td>21</td>\n",
       "      <td>0.003000</td>\n",
       "      <td>0.430893</td>\n",
       "      <td>17.152915</td>\n",
       "    </tr>\n",
       "    <tr>\n",
       "      <th>1</th>\n",
       "      <td>84</td>\n",
       "      <td>0.000436</td>\n",
       "      <td>0.217237</td>\n",
       "      <td>8.647748</td>\n",
       "    </tr>\n",
       "  </tbody>\n",
       "</table>\n",
       "</div>"
      ],
      "text/plain": [
       "   Hedges   Mean PL  Standard Deviation of PL  \\\n",
       "0      21  0.003000                  0.430893   \n",
       "1      84  0.000436                  0.217237   \n",
       "\n",
       "   Standard Deviation of P&L (% option premium)  \n",
       "0                                     17.152915  \n",
       "1                                      8.647748  "
      ]
     },
     "execution_count": 10,
     "metadata": {},
     "output_type": "execute_result"
    }
   ],
   "source": [
    "result = pd.DataFrame({\"Hedges\": HEDGES_NUM,\n",
    "                       \"Mean PL\": mean_PL,\n",
    "                       \"Standard Deviation of PL\": std_PL,\n",
    "                       \"Standard Deviation of P&L (% option premium)\": std_option_premium})\n",
    "result"
   ]
  }
 ],
 "metadata": {
  "kernelspec": {
   "display_name": "Python 3 (ipykernel)",
   "language": "python",
   "name": "python3"
  },
  "language_info": {
   "codemirror_mode": {
    "name": "ipython",
    "version": 3
   },
   "file_extension": ".py",
   "mimetype": "text/x-python",
   "name": "python",
   "nbconvert_exporter": "python",
   "pygments_lexer": "ipython3",
   "version": "3.11.0b5"
  }
 },
 "nbformat": 4,
 "nbformat_minor": 5
}
