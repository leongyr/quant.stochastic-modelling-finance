{
 "cells": [
  {
   "cell_type": "markdown",
   "id": "c6cf48da-c0be-457f-af7e-d53c24a8589d",
   "metadata": {},
   "source": [
    "# Analytical Option Formulae"
   ]
  },
  {
   "cell_type": "markdown",
   "id": "87f120f8-8718-4d9d-afd1-fa99facef5ef",
   "metadata": {},
   "source": [
    "Pricing Vanilla European, Digital Cash-or-Nothing and Digital Asset-or-Nothing options assuming stock price distributions of:\n",
    "1. Black-Scholes\n",
    "2. Bachelier\n",
    "3. Black (1976)\n",
    "4. Displaced Diffusion"
   ]
  },
  {
   "cell_type": "markdown",
   "id": "53d6cb16-8e89-4507-9051-95fafa82b8ed",
   "metadata": {},
   "source": [
    "### Import Libraries"
   ]
  },
  {
   "cell_type": "code",
   "execution_count": null,
   "id": "dc518d8c-902e-4e4e-82f3-916feef7e640",
   "metadata": {},
   "outputs": [],
   "source": [
    "import numpy as np"
   ]
  },
  {
   "cell_type": "markdown",
   "id": "ae422b18-6f31-4a3f-bce4-cd84e5040728",
   "metadata": {},
   "source": [
    "### Black-Scholes"
   ]
  },
  {
   "cell_type": "markdown",
   "id": "73ca66db-d013-44f1-b03f-46f18b79639e",
   "metadata": {},
   "source": [
    "<b>Stock Price Distribution</b>:\n",
    "\n",
    "Stock price follows a lognormal process:\n",
    "\\begin{gather*}\n",
    "dS_{t} = rS_{t}dt + \\sigma S_{t}dt\\\\\n",
    "\\therefore S_{T} = S_{0}e^{(r - \\frac{\\sigma^2}{2})T + \\sigma W_{T}}\n",
    "\\end{gather*}\n",
    "\n",
    "<b>Vanilla European Call Option</b>:\n",
    "\n",
    "$$V_{c} = S_{0}\\Phi\\Biggl(\\frac{log\\frac{S_{0}}{K} + (r+\\frac{\\sigma^2}{2})T}{\\sigma\\sqrt{T}}\\Biggr)\\ -\\ Ke^{-rT}\\Phi\\Biggl(\\frac{log\\frac{S_{0}}{K} + (r-\\frac{\\sigma^2}{2})T}{\\sigma\\sqrt{T}}\\Biggr)$$\n",
    "\n",
    "<b>Vanilla European Put Option</b>:\n",
    "\n",
    "$$V_{p} = Ke^{-rT}\\Phi\\Biggl(\\frac{log\\frac{K}{S_{0}} - (r-\\frac{\\sigma^2}{2})T}{\\sigma\\sqrt{T}}\\Biggr) -\\\n",
    "S_{0}\\Phi\\Biggl(\\frac{log\\frac{K}{S_{0}} - (r+\\frac{\\sigma^2}{2})T}{\\sigma\\sqrt{T}}\\Biggr)$$\n",
    "\n",
    "<b>Digital Cash-or-Nothing Call Option</b>:\n",
    "\n",
    "$$V_{c}^{D} = e^{-rT}\\Phi\\Biggl(\\frac{log\\frac{S_{0}}{K} + (r-\\frac{\\sigma^2}{2})T}{\\sigma\\sqrt{T}}\\Biggr)$$\n",
    "\n",
    "<b>Digital Cash-or-Nothing Put Option</b>:\n",
    "\n",
    "$$V_{p}^{D} = e^{-rT}\\Phi\\Biggl(\\frac{log\\frac{K}{S_{0}} - (r-\\frac{\\sigma^2}{2})T}{\\sigma\\sqrt{T}}\\Biggr)$$\n",
    "\n",
    "<b>Digital Asset-or-Nothing Call Option</b>:\n",
    "\n",
    "$$V_{c}^{A} = S_{0}\\Phi\\Biggl(\\frac{log\\frac{S_{0}}{K} + (r+\\frac{\\sigma^2}{2})T}{\\sigma\\sqrt{T}}\\Biggr)$$\n",
    "\n",
    "<b>Digital Asset-or-Nothing Put Option</b>:\n",
    "\n",
    "$$V_{p}^{A} = S_{0}\\Phi\\Biggl(\\frac{log\\frac{K}{S_{0}} - (r+\\frac{\\sigma^2}{2})T}{\\sigma\\sqrt{T}}\\Biggr)$$"
   ]
  },
  {
   "cell_type": "code",
   "execution_count": null,
   "id": "887be50f-826a-4f11-9814-30e9fcbf97aa",
   "metadata": {},
   "outputs": [],
   "source": [
    "def BlackScholesCall(S, sigma, K, r, T):\n",
    "    d1 = (np.log(S/K) + (r+0.5*(sigma**2))*T) / (np.sqrt(T) * sigma)\n",
    "    d2 = d1 - np.sqrt(T) * sigma\n",
    "    return S * norm.cdf(d1) - K * np.exp(-r * T) * norm.cdf(d2)"
   ]
  },
  {
   "cell_type": "code",
   "execution_count": null,
   "id": "d11ec52a-ae2f-490e-ac37-a326e7c4f100",
   "metadata": {},
   "outputs": [],
   "source": [
    "def BlackScholesPut(S, sigma, K, r, T):\n",
    "    d1 = (np.log(S/K) + (r+0.5*(sigma**2))*T) / (np.sqrt(T) * sigma)\n",
    "    d2 = d1 - np.sqrt(T) * sigma\n",
    "    return K * np.exp(-r*T) * norm.cdf(-d2) - S * norm.cdf(-d1)"
   ]
  },
  {
   "cell_type": "code",
   "execution_count": null,
   "id": "07692133-fa94-4340-a486-15054cb29ecb",
   "metadata": {},
   "outputs": [],
   "source": [
    "def BlackScholesCashCall(S, sigma, K, r, T):\n",
    "    d1 = (np.log(S/K) + (r+0.5*(sigma**2))*T) / (np.sqrt(T) * sigma)\n",
    "    d2 = d1 - np.sqrt(T) * sigma\n",
    "    return np.exp(-r*T) * norm.cdf(d2)"
   ]
  },
  {
   "cell_type": "code",
   "execution_count": null,
   "id": "83def5a4-1009-4fb6-b08d-4b8172c920d7",
   "metadata": {},
   "outputs": [],
   "source": [
    "def BlackScholesCashPut(S, sigma, K, r, T):\n",
    "    d1 = (np.log(S/K) + (r+0.5*(sigma**2))*T) / (sigma*np.sqrt(T))\n",
    "    d2 = d1 - sigma*np.sqrt(T)\n",
    "    return np.exp(-r*T) * norm.cdf(-d2)"
   ]
  },
  {
   "cell_type": "code",
   "execution_count": null,
   "id": "0ce54507-7347-433e-b72e-4b5e6afef099",
   "metadata": {},
   "outputs": [],
   "source": [
    "def BlackScholesAssetCall(S, sigma, K, r, T):\n",
    "    d1 = (np.log(S/K) + (r+0.5*(sigma**2))*T) / (np.sqrt(T) * sigma_S)\n",
    "    return S * norm.cdf(d1)"
   ]
  },
  {
   "cell_type": "code",
   "execution_count": null,
   "id": "d4bd3d11-5dff-4d10-97ed-90a02cdd7e23",
   "metadata": {},
   "outputs": [],
   "source": [
    "def BlackScholesAssetPut(S, sigma, K, r, T):\n",
    "    d1 = (np.log(S/K) + (r+0.5*(sigma**2))*T) / (sigma*np.sqrt(T))\n",
    "    return S * norm.cdf(-d1)"
   ]
  },
  {
   "cell_type": "markdown",
   "id": "690acc1c-3d23-4a55-a054-6276f817195a",
   "metadata": {},
   "source": [
    "### Bachelier"
   ]
  },
  {
   "cell_type": "markdown",
   "id": "06a408c2-cfb2-4c87-a96d-37607eec19e8",
   "metadata": {},
   "source": [
    "<b>Stock Price Distribution</b>:\n",
    "\n",
    "Stock price follows a normal process:\n",
    "\\begin{gather*}\n",
    "dS_{t} = \\sigma\\ dW_{t}\\\\\n",
    "\\therefore S_{T} = S_{0} + \\sigma W_{T}\n",
    "\\end{gather*}\n",
    "\n",
    "<b>Vanilla European Call Option</b>:\n",
    "\n",
    "$$V_{c} = e^{-rT}\\Biggl[(S_{0}-K)\\Phi\\Biggl(\\frac{S_{0}-K}{\\sigma\\sqrt{T}}\\Biggr)\\ +\\ \\sigma\\sqrt{T}\\phi\\Biggl(\\frac{S_{0}-K}{\\sigma\\sqrt{T}}\\Biggr)\\Biggr]$$\n",
    "\n",
    "<b>Vanilla European Put Option</b>:\n",
    "\n",
    "$$V_{p} = e^{-rT}\\Biggl[(K-S_{0})\\Phi\\Biggl(\\frac{K-S_{0}}{\\sigma\\sqrt{T}}\\Biggr)\\ +\\ \n",
    "\\sigma\\sqrt{T}\\phi\\Biggl(\\frac{K-S_{0}}{\\sigma\\sqrt{T}}\\Biggr)\\Biggr]$$\n",
    "\n",
    "<b>Digital Cash-or-Nothing Call Option</b>:\n",
    "\n",
    "$$V_{c}^{D} = e^{-rT}\\Phi\\Biggl(\\frac{S_{0}-K}{\\sigma\\sqrt{T}}\\Biggr)$$\n",
    "\n",
    "<b>Digital Cash-or-Nothing Put Option</b>:\n",
    "\n",
    "$$V_{p}^{D} = e^{-rT}\\Phi\\Biggl(\\frac{K-S_{0}}{\\sigma\\sqrt{T}}\\Biggr)$$\n",
    "\n",
    "<b>Digital Asset-or-Nothing Call Option</b>:\n",
    "\n",
    "$$V_{c}^{A} = e^{-rT}\\Biggl[S_{0}\\Phi\\Biggl(\\frac{S_{0}-K}{\\sigma\\sqrt{T}}\\Biggr) + \\sigma\\sqrt{T}\\phi\\Biggl(\\frac{S_{0}-K}{\\sigma\\sqrt{T}}\\Biggr)\\Biggr]$$\n",
    "\n",
    "<b>Digital Asset-or-Nothing Put Option</b>:\n",
    "\n",
    "$$V_{p}^{A} = e^{-rT}\\Biggl[S_{0}\\Phi\\Biggl(\\frac{K-S_{0}}{\\sigma\\sqrt{T}}\\Biggr) - \\sigma\\sqrt{T}\\phi\\Biggl(\\frac{K-S_{0}}{\\sigma\\sqrt{T}}\\Biggr)\\Biggr]$$"
   ]
  },
  {
   "cell_type": "code",
   "execution_count": null,
   "id": "c90c66b7-56da-45dd-be43-692a9bac3c00",
   "metadata": {},
   "outputs": [],
   "source": [
    "# Bachelier volatility multiply by S because it is measured in absolute terms\n",
    "# While Black-Scholes is measured in percentage\n",
    "def BachelierCall(S, sigma, K, r, T):\n",
    "    d1 = (S-K) / (sigma*S*np.sqrt(T))\n",
    "    return np.exp(-r*T) * ((S-K)*norm.cdf(d1) + sigma*S*np.sqrt(T)*norm.pdf(d1))"
   ]
  },
  {
   "cell_type": "code",
   "execution_count": null,
   "id": "1a16fbe2-ca65-4022-8fe6-f1a3d3a27b4e",
   "metadata": {},
   "outputs": [],
   "source": [
    "def BachelierPut(S, sigma, K, r, T):\n",
    "    d1 = (S-K) / (sigma*S*np.sqrt(T))\n",
    "    return np.exp(-r*T) * ((K-S) * norm.cdf(-d1) + sigma*S*np.sqrt(T)*norm.pdf(-d1))"
   ]
  },
  {
   "cell_type": "code",
   "execution_count": null,
   "id": "7ba33dbe-682a-481e-826f-c8a81be31680",
   "metadata": {},
   "outputs": [],
   "source": [
    "def BachelierCashCall(S, sigma, K, r, T):\n",
    "    d1 = (S-K) / (sigma*S*np.sqrt(T))\n",
    "    return np.exp(-r*T) * norm.cdf(d1)"
   ]
  },
  {
   "cell_type": "code",
   "execution_count": null,
   "id": "ffeb812d-cbe9-4850-ab9b-9537d6ab2685",
   "metadata": {},
   "outputs": [],
   "source": [
    "def BachelierCashPut(S, sigma, K, r, T):\n",
    "    d1 = (S-K) / (sigma*S*np.sqrt(T))\n",
    "    return np.exp(-r*T) * norm.cdf(-d1)"
   ]
  },
  {
   "cell_type": "code",
   "execution_count": null,
   "id": "f14d6548-b268-4bfd-a8d2-4336da1d2c08",
   "metadata": {},
   "outputs": [],
   "source": [
    "def BachelierAssetCall(S, sigma, K, r, T):\n",
    "    d1 = (S-K) / (sigma*S*np.sqrt(T))\n",
    "    return np.exp(-r*T) * (S*norm.cdf(d1) + sigma*S*np.sqrt(T)*norm.pdf(d1))"
   ]
  },
  {
   "cell_type": "code",
   "execution_count": null,
   "id": "b852f430-bbec-43fb-a7da-105592aba558",
   "metadata": {},
   "outputs": [],
   "source": [
    "def BachelierAssetPut(S, sigma, K, r, T):\n",
    "    d1 = (S-K) / (sigma*S*np.sqrt(T))\n",
    "    return np.exp(-r*T) * (S*norm.cdf(-d1) - sigma*S*np.sqrt(T)*norm.pdf(-d1))"
   ]
  },
  {
   "cell_type": "markdown",
   "id": "53bffd35-d511-4b9a-b6ea-979caae98cba",
   "metadata": {},
   "source": [
    "### Black76"
   ]
  },
  {
   "cell_type": "markdown",
   "id": "8d609722-5ffc-4b99-b78c-4d44ea84c356",
   "metadata": {},
   "source": [
    "<b>Stock Price Distribution</b>:\n",
    "\n",
    "Forward price follows a lognormal process:\n",
    "\\begin{gather*}\n",
    "dF_{t} = \\sigma F_{t}dW_{t}\\\\\n",
    "\\therefore F_{T} = F_{0}e^{-\\frac{\\sigma^2T}{2}+\\sigma W_{T}}\n",
    "\\end{gather*}\n",
    "\n",
    "<b>Vanilla European Call Option</b>:\n",
    "\n",
    "$$V_{c} = e^{-rT}\\Biggl[F_{0}\\Phi\\Biggl(\\frac{\\log\\frac{F_{0}}{K}+\\frac{\\sigma^2T}{2}}{\\sigma\\sqrt{T}}\\Biggr)\\ -\\ K\\Phi\\Biggl(\\frac{\\log\\frac{F_{0}}{K}-\\frac{\\sigma^2T}{2}}{\\sigma\\sqrt{T}}\\Biggr)\\Biggr]$$\n",
    "\n",
    "<b>Vanilla European Put Option</b>:\n",
    "\n",
    "$$V_{p} = e^{-rT}\\Biggl[K\\Phi\\Biggl(\\frac{\\log\\frac{K}{F_{0}}+\\frac{\\sigma^2T}{2}}{\\sigma\\sqrt{T}}\\Biggr)\\ -\\ F_{0}\\Phi\\Biggl(\\frac{\\log\\frac{K}{F_{0}}-\\frac{\\sigma^2T}{2}}{\\sigma\\sqrt{T}}\\Biggr)\\Biggr]$$\n",
    "\n",
    "<b>Digital Cash-or-Nothing Call Option</b>:\n",
    "\n",
    "$$V_{c}^{D} = e^{-rT}\\Phi\\Biggl(\\frac{\\log\\frac{F_{0}}{K}-\\frac{\\sigma^{2}T}{2}}{\\sigma\\sqrt{T}}\\Biggr)$$\n",
    "\n",
    "<b>Digital Cash-or-Nothing Put Option</b>:\n",
    "\n",
    "$$V_{p}^{D} = e^{-rT}\\Phi\\Biggl(\\frac{\\log\\frac{K}{F_{0}}+\\frac{\\sigma^{2}T}{2}}{\\sigma\\sqrt{T}}\\Biggr)$$\n",
    "\n",
    "<b>Digital Asset-or-Nothing Call Option</b>:\n",
    "\n",
    "$$V_{c}^{A} = e^{-rT}F_{0}\\Phi\\Biggl(\\frac{\\log\\frac{F_{0}}{K}+\\frac{\\sigma^2T}{2}}{\\sigma\\sqrt{T}}\\Biggr)$$\n",
    "\n",
    "<b>Digital Asset-or-Nothing Put Option</b>:\n",
    "\n",
    "$$V_{p}^{A} = e^{-rT}F_{0}\\Phi\\Biggl(\\frac{\\log\\frac{K}{F_{0}}-\\frac{\\sigma^2T}{2}}{\\sigma\\sqrt{T}}\\Biggr)$$"
   ]
  },
  {
   "cell_type": "code",
   "execution_count": null,
   "id": "feeac7d6-9ed1-4b7a-af52-83744525cd1e",
   "metadata": {},
   "outputs": [],
   "source": [
    "def Black76Call(S, sigma, K, r, T):\n",
    "    F = np.exp(r*T)*S\n",
    "    d1 = (np.log(F/K) + T*0.5*(sigma ** 2)) / (np.sqrt(T) * sigma)\n",
    "    d2 = d1 - np.sqrt(T) * sigma\n",
    "    return np.exp(-r*T) * (F*norm.cdf(d1) - K*norm.cdf(d2))"
   ]
  },
  {
   "cell_type": "code",
   "execution_count": null,
   "id": "c829f1a6-4096-443e-a7a3-0cd33dda0d60",
   "metadata": {},
   "outputs": [],
   "source": [
    "def Black76Put(S, sigma, K, r, T):\n",
    "    F = np.exp(r*T)*S\n",
    "    d1 = (np.log(F/K)+sigma**2/2*T) / (sigma*np.sqrt(T))\n",
    "    d2 = d1 - sigma*np.sqrt(T)\n",
    "    return np.exp(-r*T) * (K*norm.cdf(-d2) - F*norm.cdf(-d1))"
   ]
  },
  {
   "cell_type": "code",
   "execution_count": null,
   "id": "af8305ac-e765-4dbd-934b-46e54f80c589",
   "metadata": {},
   "outputs": [],
   "source": [
    "def Black76CashCall(S, sigma, K, r, T):\n",
    "    F = np.exp(r*T)*S\n",
    "    d1 = (np.log(F/K)+sigma**2/2*T) / (sigma*np.sqrt(T))\n",
    "    d2 = d1 - sigma*np.sqrt(T)\n",
    "    return np.exp(-r*T) * norm.cdf(d2)"
   ]
  },
  {
   "cell_type": "code",
   "execution_count": null,
   "id": "77772f67-9d75-4586-bd34-b65dfb2ecbf2",
   "metadata": {},
   "outputs": [],
   "source": [
    "def Black76CashPut(S, sigma, K, r, T):\n",
    "    F = np.exp(r*T)*S\n",
    "    d1 = (np.log(F/K)+sigma**2/2*T) / (sigma*np.sqrt(T))\n",
    "    d2 = d1 - sigma*np.sqrt(T)\n",
    "    return np.exp(-r*T) * norm.cdf(-d2)"
   ]
  },
  {
   "cell_type": "code",
   "execution_count": null,
   "id": "afc166d2-408c-428b-bac8-69b57c5d7a5a",
   "metadata": {},
   "outputs": [],
   "source": [
    "def Black76AssetCall(S, sigma, K, r, T):\n",
    "    F = np.exp(r*T)*S\n",
    "    d1 = (np.log(F/K)+sigma**2/2*T) / (sigma*np.sqrt(T))\n",
    "    d2 = d1 - sigma*np.sqrt(T)\n",
    "    return F * np.exp(-r*T) * norm.cdf(d1)"
   ]
  },
  {
   "cell_type": "code",
   "execution_count": null,
   "id": "7695f25f-bee8-4155-88a4-9d422308be3f",
   "metadata": {},
   "outputs": [],
   "source": [
    "def Black76AssetPut(S, sigma, K, r, T):\n",
    "    F = np.exp(r*T)*S\n",
    "    d1 = (np.log(F/K)+sigma**2/2*T) / (sigma*np.sqrt(T))\n",
    "    d2 = d1 - sigma*np.sqrt(T)\n",
    "    return F * np.exp(-r*T) * norm.cdf(-d1)"
   ]
  },
  {
   "cell_type": "markdown",
   "id": "ebed7e29-b990-4719-ba4a-1833f332a313",
   "metadata": {},
   "source": [
    "### Displaced Diffusion"
   ]
  },
  {
   "cell_type": "markdown",
   "id": "9179699d-642e-47fb-b9fd-3d58d980c190",
   "metadata": {},
   "source": [
    "<b>Stock Price Distribution</b>:\n",
    "\n",
    "Stock price follows a shifted lognormal process:\n",
    "\\begin{gather*}\n",
    "dF_{t} = \\sigma[\\beta F_{t} + (1-\\beta)F_{0}]dW_{t}\\\\\n",
    "\\therefore F_{T} = \\frac{F_{0}}{\\beta}e^{-\\frac{\\beta^2\\sigma^2T}{2}+\\beta\\sigma W_{T}} - \\frac{1-\\beta}{\\beta}F_{0}\n",
    "\\end{gather*}\n",
    "\n",
    "<b>Vanilla European Call Option</b>:\n",
    "\n",
    "$$V_{c} = e^{-rT}\\Biggl[\\frac{F_{0}}{\\beta}\\Phi\\Biggl(\\frac{\\log(\\frac{F_{0}}{F_{0}+\\beta(K-F_{0})})+\\frac{(\\beta\\sigma)^{2}T}{2}}{\\beta\\sigma\\sqrt{T}}\\Biggr) - (\\frac{1-\\beta}{\\beta}F_{0} + K)\\Phi\\Biggl(\\frac{\\log(\\frac{F_{0}}{F_{0}+\\beta(K-F_{0})})-\\frac{(\\beta\\sigma)^{2}T}{2}}{\\beta\\sigma\\sqrt{T}}\\Biggr)\\Biggr]$$\n",
    "\n",
    "<b>Vanilla European Put Option</b>:\n",
    "\n",
    "$$V_{c} = e^{-rT}\\Biggl[(\\frac{1-\\beta}{\\beta}F_{0} + K)\\Phi\\Biggl(\\frac{\\log(\\frac{F_{0}+\\beta(K-F_{0})}{F_{0}})+\\frac{(\\beta\\sigma)^{2}T}{2}}{\\beta\\sigma\\sqrt{T}}\\Biggr) - \\frac{F_{0}}{\\beta}\\Phi\\Biggl(\\frac{\\log(\\frac{F_{0}+\\beta(K-F_{0})}{F_{0}})-\\frac{(\\beta\\sigma)^{2}T}{2}}{\\beta\\sigma\\sqrt{T}}\\Biggr)\\Biggr]$$\n",
    "\n",
    "<b>Digital Cash-or-Nothing Call Option</b>:\n",
    "\n",
    "$$V_{c} = e^{-rT}\\Phi\\Biggl(\\frac{\\log(\\frac{F_{0}}{F_{0}+\\beta(K-F_{0})})-\\frac{(\\beta\\sigma)^{2}T}{2}}{\\beta\\sigma\\sqrt{T}}\\Biggr)$$\n",
    "\n",
    "<b>Digital Cash-or-Nothing Put Option</b>:\n",
    "\n",
    "$$V_{c} = e^{-rT}\\Phi\\Biggl(\\frac{\\log(\\frac{F_{0}+\\beta(K-F_{0})}{F_{0}})+\\frac{(\\beta\\sigma)^{2}T}{2}}{\\beta\\sigma\\sqrt{T}}\\Biggr)$$\n",
    "\n",
    "<b>Digital Asset-or-Nothing Call Option</b>:\n",
    "\n",
    "$$V_{c} = e^{-rT}\\Biggl[\\frac{F_{0}}{\\beta}\\Phi\\Biggl(\\frac{\\log(\\frac{F_{0}}{F_{0}+\\beta(K-F_{0})})+\\frac{(\\beta\\sigma)^{2}T}{2}}{\\beta\\sigma\\sqrt{T}}\\Biggr) - (\\frac{1-\\beta}{\\beta}F_{0})\\Phi\\Biggl(\\frac{\\log(\\frac{F_{0}}{F_{0}+\\beta(K-F_{0})})-\\frac{(\\beta\\sigma)^{2}T}{2}}{\\beta\\sigma\\sqrt{T}}\\Biggr)\\Biggr]$$\n",
    "\n",
    "<b>Digital Asset-or-Nothing Put Option</b>:\n",
    "\n",
    "$$V_{c} = e^{-rT}\\Biggl[\\frac{F_{0}}{\\beta}\\Phi\\Biggl(\\frac{\\log(\\frac{F_{0}+\\beta(K-F_{0})}{F_{0}})-\\frac{(\\beta\\sigma)^{2}T}{2}}{\\beta\\sigma\\sqrt{T}}\\Biggr) - (\\frac{1-\\beta}{\\beta}F_{0})\\Phi\\Biggl(\\frac{\\log(\\frac{F_{0}+\\beta(K-F_{0})}{F_{0}})+\\frac{(\\beta\\sigma)^{2}T}{2}}{\\beta\\sigma\\sqrt{T}}\\Biggr)\\Biggr]$$"
   ]
  },
  {
   "cell_type": "code",
   "execution_count": null,
   "id": "162bbec0-659d-4165-834b-5c2ce3e22af3",
   "metadata": {},
   "outputs": [],
   "source": [
    "def DisplacedDiffusionCall(S, sigma, K, r, T, beta):\n",
    "    F = np.exp(r*T)*S\n",
    "    d1 = (np.log(F/(F+beta*(K-F)))+(beta*sigma)**2/2*T) / (beta*sigma*np.sqrt(T))\n",
    "    d2 = d1 - beta*sigma*np.sqrt(T)\n",
    "    return np.exp(-r*T) * (F/beta*norm.cdf(d1) - ((1-beta)/beta*F + K)*norm.cdf(d2))"
   ]
  },
  {
   "cell_type": "code",
   "execution_count": null,
   "id": "6350b8b0-4e40-4271-bed7-98ba1f2bf920",
   "metadata": {},
   "outputs": [],
   "source": [
    "def DisplacedDiffusionPut(S, sigma, K, r, T, beta):\n",
    "    F = np.exp(r*T)*S\n",
    "    d1 = (np.log(F/(F+beta*(K-F)))+(beta*sigma)**2/2*T) / (beta*sigma*np.sqrt(T))\n",
    "    d2 = d1 - beta*sigma*np.sqrt(T)\n",
    "    return np.exp(-r*T) * (((1-beta)/beta*F + K)*norm.cdf(-d2) - F/beta*norm.cdf(-d1))"
   ]
  },
  {
   "cell_type": "code",
   "execution_count": null,
   "id": "be7dc27f-884e-401c-a5fc-c69c1c243651",
   "metadata": {},
   "outputs": [],
   "source": [
    "def DisplacedDiffusionCashCall(S, sigma, K, r, T, beta):\n",
    "    F = np.exp(r*T) * S\n",
    "    d1 = (np.log(F/(F+beta*(K-F)))+(beta*sigma)**2/2*T) / (beta*sigma*np.sqrt(T))\n",
    "    d2 = d1 - beta*sigma*np.sqrt(T)\n",
    "    return np.exp(-r*T) * norm.cdf(d2)"
   ]
  },
  {
   "cell_type": "code",
   "execution_count": null,
   "id": "bfd24951-01ba-48af-b1d4-9ba3de44b99e",
   "metadata": {},
   "outputs": [],
   "source": [
    "def DisplacedDiffusionCashPut(S, sigma, K, r, T, beta):\n",
    "    F = np.exp(r*T)*S\n",
    "    d1 = (np.log(F/(F+beta*(K-F)))+(beta*sigma)**2/2*T) / (beta*sigma*np.sqrt(T))\n",
    "    d2 = d1 - beta*sigma*np.sqrt(T)\n",
    "    return np.exp(-r*T) * norm.cdf(-d2)"
   ]
  },
  {
   "cell_type": "code",
   "execution_count": null,
   "id": "7fdb5b1f-4692-41b5-9058-ddf93b9773a6",
   "metadata": {},
   "outputs": [],
   "source": [
    "def DisplacedDiffusionAssetCall(S, sigma, K, r, T, beta):\n",
    "    F = np.exp(r*T)*S\n",
    "    d1 = (np.log(F/(F+beta*(K-F)))+(beta*sigma)**2/2*T) / (beta*sigma*np.sqrt(T))\n",
    "    d2 = d1 - beta*sigma*np.sqrt(T)\n",
    "    return np.exp(-r*T) * (F/beta*norm.cdf(d1) - ((1-beta)/beta*F)*norm.cdf(d2))"
   ]
  },
  {
   "cell_type": "code",
   "execution_count": null,
   "id": "22475e74-6086-49dd-ac08-e0515bacfc91",
   "metadata": {},
   "outputs": [],
   "source": [
    "def DisplacedDiffusionAssetPut(S, sigma, K, r, T, beta):\n",
    "    F = np.exp(r*T)*S\n",
    "    d1 = (np.log(F/(F+beta*(K-F)))+(beta*sigma)**2/2*T) / (beta*sigma*np.sqrt(T))\n",
    "    d2 = d1 - beta*sigma*np.sqrt(T)\n",
    "    return np.exp(-r*T) * (F/beta*norm.cdf(-d1) - ((1-beta)/beta*F)*norm.cdf(-d2))"
   ]
  }
 ],
 "metadata": {
  "kernelspec": {
   "display_name": "Python 3 (ipykernel)",
   "language": "python",
   "name": "python3"
  },
  "language_info": {
   "codemirror_mode": {
    "name": "ipython",
    "version": 3
   },
   "file_extension": ".py",
   "mimetype": "text/x-python",
   "name": "python",
   "nbconvert_exporter": "python",
   "pygments_lexer": "ipython3",
   "version": "3.11.0b5"
  }
 },
 "nbformat": 4,
 "nbformat_minor": 5
}
