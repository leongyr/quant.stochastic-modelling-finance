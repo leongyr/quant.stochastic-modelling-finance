{
 "cells": [
  {
   "cell_type": "markdown",
   "id": "a9a62f86-9375-4d79-86df-bb9deb2c5bb2",
   "metadata": {},
   "source": [
    "# Static Replication of European Payoffs"
   ]
  },
  {
   "cell_type": "markdown",
   "id": "da32dbc0-f7b8-406d-8d18-9627bb876067",
   "metadata": {},
   "source": [
    "## Import"
   ]
  },
  {
   "cell_type": "markdown",
   "id": "b2e4c9de-47f0-4a0d-b6da-5229b3dd9367",
   "metadata": {},
   "source": [
    "### Libraries"
   ]
  },
  {
   "cell_type": "code",
   "execution_count": 1,
   "id": "5531adad-d2c8-4213-b60a-3d5b77ec7fa4",
   "metadata": {},
   "outputs": [],
   "source": [
    "import numpy as np\n",
    "import pandas as pd\n",
    "import matplotlib.pyplot as plt\n",
    "from matplotlib.ticker import PercentFormatter\n",
    "import datetime as dt\n",
    "\n",
    "from scipy.stats import norm\n",
    "from scipy.optimize import brentq\n",
    "from scipy.optimize import least_squares\n",
    "from scipy.integrate import quad\n",
    "\n",
    "import warnings\n",
    "warnings.filterwarnings('ignore')"
   ]
  },
  {
   "cell_type": "markdown",
   "id": "fa1e6995-34bd-4384-8050-ff28dbe1a919",
   "metadata": {},
   "source": [
    "### Parameters (Calibrated SABR Model)"
   ]
  },
  {
   "cell_type": "code",
   "execution_count": 6,
   "id": "73940376-21d6-4d45-b41f-7f651af0530f",
   "metadata": {},
   "outputs": [],
   "source": [
    "# Calibrated parameters saved to an external csv file for easy retrieval\n",
    "# Avoid issue of having to always run the model calibration cells\n",
    "# SABR parameters were stored in the following order: alpha, beta, rho, nu\n",
    "calibrated_params = pd.read_csv(\"Calibrated_Model_params.csv\")\n",
    "\n",
    "static_vol_SPX = calibrated_params[\"SPX_ATM_Vols\"].values[0]\n",
    "static_vol_SPY = calibrated_params[\"SPY_ATM_Vols\"].values[0]\n",
    "\n",
    "SABR_alpha_SPX = calibrated_params[\"SABR_SPX\"].values[0]\n",
    "SABR_beta_SPX = calibrated_params[\"SABR_SPX\"].values[1]\n",
    "SABR_rho_SPX = calibrated_params[\"SABR_SPX\"].values[2]\n",
    "SABR_nu_SPX = calibrated_params[\"SABR_SPX\"].values[3]\n",
    "\n",
    "SABR_alpha_SPY = calibrated_params[\"SABR_SPY\"].values[0]\n",
    "SABR_beta_SPY = calibrated_params[\"SABR_SPY\"].values[1]\n",
    "SABR_rho_SPY = calibrated_params[\"SABR_SPY\"].values[2]\n",
    "SABR_nu_SPY = calibrated_params[\"SABR_SPY\"].values[3]"
   ]
  },
  {
   "cell_type": "markdown",
   "id": "50d45c52-2bbc-4c95-ba06-e9bcb69ae30d",
   "metadata": {},
   "source": [
    "### Data"
   ]
  },
  {
   "cell_type": "code",
   "execution_count": 8,
   "id": "42b2e54e-6e5e-488f-adb5-8111eb07deca",
   "metadata": {},
   "outputs": [],
   "source": [
    "discount_rates = pd.read_csv(\"zero_rates_20201201.csv\")\n",
    "discount_rates[\"date\"] = pd.to_datetime(discount_rates[\"date\"], format = \"%Y%m%d\")\n",
    "min = discount_rates[\"days\"].min()\n",
    "max = discount_rates[\"days\"].max()\n",
    "discount_rates = discount_rates.set_index(\"days\").reindex(index = list(range(min, max+1)))\n",
    "discount_rates[\"rate\"] = discount_rates[\"rate\"].interpolate(method='index', limit_direction='forward')\n",
    "discount_rates[\"rate\"] /= 100\n",
    "discount_rates = discount_rates.ffill().reset_index()"
   ]
  },
  {
   "cell_type": "code",
   "execution_count": 9,
   "id": "69b45112-7f00-4413-a878-67df3c826e99",
   "metadata": {},
   "outputs": [],
   "source": [
    "curr_date = dt.datetime(2020, 12, 1)\n",
    "maturity_date = dt.datetime(2021, 1, 15)\n",
    "static_T = (maturity_date - curr_date).days\n",
    "static_r = discount_rates.iloc[static_T - 7][\"rate\"]"
   ]
  },
  {
   "cell_type": "code",
   "execution_count": 11,
   "id": "aefc16e6-d1cc-47c1-ae06-33b94f7805de",
   "metadata": {},
   "outputs": [],
   "source": [
    "SPX_index_val = 3662.45"
   ]
  },
  {
   "cell_type": "markdown",
   "id": "402d9430-d393-4163-b43a-41e35c3169c6",
   "metadata": {},
   "source": [
    "## Payoff function"
   ]
  },
  {
   "cell_type": "markdown",
   "id": "490c8aac-eca1-4bb3-b351-520e0cecebef",
   "metadata": {},
   "source": [
    "Suppose on 1-Dec-2020, there is a need to evaluate an exotic European derivative expiring on 15-Jan-2021 which pays:\n",
    "$$S_{T}^{1/3} + 1.5\\log S_{T} + 10.0$$"
   ]
  },
  {
   "cell_type": "markdown",
   "id": "a363de7a-0c1a-4367-aeed-962ad7dd7bc4",
   "metadata": {},
   "source": [
    "### Black-Scholes Model"
   ]
  },
  {
   "cell_type": "markdown",
   "id": "a75188d5-3f0d-4116-84c1-1cac3502a06a",
   "metadata": {},
   "source": [
    "Pricing function based on Black-Scholes Model is given by:\n",
    "$$V_{0} = S_{0}^{\\frac{1}{3}}\\Biggl[e^{(-2r-\\frac{\\sigma^2}{3})\\frac{T}{3}}\\Biggr] + 1.5\\Biggl[\\log(S_{0} + (r - \\frac{\\sigma^2}{2})T\\Biggr] + 10$$"
   ]
  },
  {
   "cell_type": "code",
   "execution_count": 12,
   "id": "420fcb1c-882c-4aa5-9cfd-0559027113bc",
   "metadata": {},
   "outputs": [],
   "source": [
    "def payoffBlackScholes(S, r, T, sigma):\n",
    "    price = (S ** (1/3)) * (np.exp((T/3) * (-2*r - ((sigma**2)/3)))) + (1.5*np.log(S)) + (1.5*T*(r - (sigma**2)/2)) + 10\n",
    "    return price"
   ]
  },
  {
   "cell_type": "code",
   "execution_count": 13,
   "id": "05a3f414-6df1-4215-ad5b-250b4dad6c43",
   "metadata": {},
   "outputs": [
    {
     "name": "stdout",
     "output_type": "stream",
     "text": [
      "Price of derivative contract for SPX (Black Scholes model): $37.71009\n"
     ]
    }
   ],
   "source": [
    "price_derivative_BS_SPX = payoffBlackScholes(SPX_index_val, static_r, static_T/365, static_vol_SPX)\n",
    "\n",
    "print(f\"Price of derivative contract for SPX (Black Scholes model): ${price_derivative_BS_SPX:.5f}\")"
   ]
  },
  {
   "cell_type": "markdown",
   "id": "5afed2d2-63b1-4835-a70f-31df8d786f39",
   "metadata": {},
   "source": [
    "### Bachelier Model"
   ]
  },
  {
   "cell_type": "markdown",
   "id": "84d9bd2e-4add-471a-9ee4-b10e3e912aa3",
   "metadata": {},
   "source": [
    "Pricing function based on Bachelier Model is given by:\n",
    "$$V_{0} = \\frac{e^{-rT}}{\\sqrt{2\\pi}}\\int_{-\\infty}^{\\infty}\\Biggl[(S_{0}+\\sigma\\sqrt{T}x)^\\frac{1}{3} + 1.5\\log(S_{0}+\\sigma\\sqrt{T}x) +\\\n",
    "10\\Biggr]\\cdot e^{-\\frac{x^2}{2}} dx$$"
   ]
  },
  {
   "cell_type": "code",
   "execution_count": 14,
   "id": "c5c7e7ca-1254-449c-a66d-2e1f3f896385",
   "metadata": {},
   "outputs": [],
   "source": [
    "def payoffBachelier(S, r, T, sigma):\n",
    "    integrand = lambda x: (((S + sigma*np.sqrt(T)*x)**(1/3) + (1.5*np.log(S + sigma*np.sqrt(T)*x)) + 10) * np.exp(-(x**2)/2))\n",
    "    price = np.exp(-r*T)/np.sqrt(2*np.pi) * quad(integrand, -(np.inf), np.inf)[0]\n",
    "    return price"
   ]
  },
  {
   "cell_type": "code",
   "execution_count": 15,
   "id": "8641836a-631c-4832-863b-6b7e402286ec",
   "metadata": {},
   "outputs": [
    {
     "name": "stdout",
     "output_type": "stream",
     "text": [
      "Price of derivative contract for SPX (Bachelier model): $37.71360\n"
     ]
    }
   ],
   "source": [
    "price_derivative_Bach_SPX = payoffBachelier(SPX_index_val, static_r, static_T/365, static_vol_SPX)\n",
    "\n",
    "print(f\"Price of derivative contract for SPX (Bachelier model): ${price_derivative_Bach_SPX:.5f}\")"
   ]
  },
  {
   "cell_type": "markdown",
   "id": "85484992-71f6-4fa2-b763-12e9d3dda1da",
   "metadata": {},
   "source": [
    "### Static-replication of European payoff (using calibrated SABR Model)"
   ]
  },
  {
   "cell_type": "markdown",
   "id": "76119f34-870b-4619-841b-59fcb387b92d",
   "metadata": {},
   "source": [
    "Static replication of payoff is given by:\n",
    "\n",
    "$$V_{0} = e^{-rT}((S_{0}e^{rT})^{\\frac{1}{3}} + 1.5\\log(S_{0}e^{rT}) + 10) +\\\n",
    "\\int_{0}^{F}(-\\frac{2}{9}K^{-\\frac{5}{3}} - \\frac{1.5}{K^{2}})\\cdot P(K) dK +\\\n",
    "\\int_{F}^{\\infty}(-\\frac{2}{9}K^{-\\frac{5}{3}} - \\frac{1.5}{K^{2}})\\cdot C(K) dK$$"
   ]
  },
  {
   "cell_type": "code",
   "execution_count": 19,
   "id": "e098fa3c-31bb-4bac-aa05-562d9af5ff85",
   "metadata": {},
   "outputs": [],
   "source": [
    "def SABR(F, K, T, alpha, beta, rho, nu):\n",
    "    X = K\n",
    "    # if K is at-the-money-forward\n",
    "    if abs(F - K) < 1e-12:\n",
    "        numer1 = (((1 - beta) ** 2)/24) * alpha * alpha/(F ** (2 - 2 * beta))\n",
    "        numer2 = 0.25 * rho * beta * nu * alpha/(F ** (1 - beta))\n",
    "        numer3 = ((2 - 3 * rho * rho)/24) * nu * nu\n",
    "        VolAtm = alpha * (1 + (numer1 + numer2 + numer3) * T)/(F ** (1 - beta))\n",
    "        sabrsigma = VolAtm\n",
    "    else:\n",
    "        z = (nu/alpha) * ((F * X) ** (0.5 * (1-beta))) * np.log(F/X)\n",
    "        zhi = np.log((((1 - 2 * rho * z + z * z) ** 0.5) + z - rho)/(1 - rho))\n",
    "        numer1 = (((1 - beta) ** 2)/24) * ((alpha * alpha)/((F * X) ** (1 - beta)))\n",
    "        numer2 = 0.25 * rho * beta * nu * alpha/((F * X) ** ((1 - beta)/2))\n",
    "        numer3 = ((2 - 3 * rho * rho)/24) * nu * nu\n",
    "        numer = alpha * (1 + (numer1 + numer2 + numer3) * T) * z\n",
    "        denom1 = ((1 - beta) ** 2/24) * (np.log(F/X)) ** 2\n",
    "        denom2 = (((1 - beta) ** 4)/1920) * ((np.log(F/X)) ** 4)\n",
    "        denom = ((F*X) ** ((1 - beta)/2)) * (1 + denom1 + denom2) * zhi\n",
    "        sabrsigma = numer/denom\n",
    "\n",
    "    return sabrsigma"
   ]
  },
  {
   "cell_type": "code",
   "execution_count": 20,
   "id": "35801f44-c322-4a6b-820e-42066a23c305",
   "metadata": {},
   "outputs": [],
   "source": [
    "def SABRCall(S, K, r, alpha, beta, rho, nu, T):\n",
    "    sabr_vol = SABR(S*np.exp(r*T), K, T, alpha, beta, rho, nu)\n",
    "    return BlackScholesCall(S, sabr_vol, K, r, T)\n",
    "\n",
    "\n",
    "def SABRPut(S, K, r, alpha, beta, rho, nu, T):\n",
    "    sabr_vol = SABR(S*np.exp(r*T), K, T, alpha, beta, rho, nu)\n",
    "    return BlackScholesPut(S, sabr_vol, K, r, T)\n",
    "\n",
    "\n",
    "def sabrcallintegrand_payoff(K, S, r, T, alpha, beta, rho, nu):\n",
    "    price = SABRCall(S, K, r, alpha, beta, rho, nu, T) * (-2/9*K**(-5/3) - 1.5/K**2)\n",
    "    return price\n",
    "\n",
    "\n",
    "def sabrputintegrand_payoff(K, S, r, T, alpha, beta, rho, nu):\n",
    "    price = SABRPut(S, K, r, alpha, beta, rho, nu, T) * (-2/9*K**(-5/3) - 1.5/K**2)\n",
    "    return price"
   ]
  },
  {
   "cell_type": "code",
   "execution_count": 21,
   "id": "9c48bbfa-ba62-420f-a39c-6e2fa2bc869c",
   "metadata": {},
   "outputs": [],
   "source": [
    "def payoffSABR(S, r, T, alpha, beta, rho, nu):\n",
    "    F = S*np.exp(r*T)\n",
    "    I_put = quad(lambda x: sabrputintegrand_payoff(x, S, r, T, alpha, beta, rho, nu), 1e-6, F)\n",
    "    I_call = quad(lambda x: sabrcallintegrand_payoff(x, S, r, T, alpha, beta, rho, nu), F, np.inf)\n",
    "    price = (np.exp(-r*T) * (F**(1/3) + 1.5*np.log(F) + 10)) + (I_put[0] + I_call[0])\n",
    "    return price"
   ]
  },
  {
   "cell_type": "code",
   "execution_count": 22,
   "id": "e325ea4b-bd42-44f0-a215-f6d1f9f14fc4",
   "metadata": {},
   "outputs": [
    {
     "name": "stdout",
     "output_type": "stream",
     "text": [
      "Price of derivative contract for SPX (SABR model): $37.70037\n"
     ]
    }
   ],
   "source": [
    "price_derivative_SABR_SPX = payoffSABR(SPX_index_val,\n",
    "                                       static_r,\n",
    "                                       static_T/365,\n",
    "                                       SABR_alpha_SPX,\n",
    "                                       SABR_beta_SPX,\n",
    "                                       SABR_rho_SPX,\n",
    "                                       SABR_nu_SPX)\n",
    "\n",
    "print(f\"Price of derivative contract for SPX (SABR model): ${price_derivative_SABR_SPX:.5f}\")"
   ]
  },
  {
   "cell_type": "markdown",
   "id": "3da3894f-a240-4823-a360-faf2626ebc88",
   "metadata": {},
   "source": [
    "## \"Model-free\" integrated variance"
   ]
  },
  {
   "cell_type": "markdown",
   "id": "01e42456-f468-49ab-89ea-68ce806c28f1",
   "metadata": {},
   "source": [
    "Suppose on 1-Dec-2020, there is a need to evaluate an exotic European derivative expiring on 15-Jan-2021 which pays the \"Model-free\" integrated variance:\n",
    "$$\\sigma_{MF}^{2}T = \\mathbb{E}\\Biggl[\\int_{0}^{T}\\sigma_{t}^{2}\\ dt\\Biggr] = 2e^{rT}\\int_{0}^{F}\\frac{P(K)}{K^2}\\ dK + 2e^{rT}\\int_{F}^{\\infty}\\frac{C(K)}{K^2}\\ dK$$"
   ]
  },
  {
   "cell_type": "markdown",
   "id": "80b9687d-7bbd-43d2-9948-20657564872b",
   "metadata": {},
   "source": [
    "### Black-Scholes Model"
   ]
  },
  {
   "cell_type": "code",
   "execution_count": 2,
   "id": "e2a2ef71-0212-4a6d-bf21-d8042025c2b4",
   "metadata": {},
   "outputs": [],
   "source": [
    "def BlackScholesCall(S, sigma, K, r, T):\n",
    "    d1 = (np.log(S/K) + (r+0.5*(sigma**2))*T) / (np.sqrt(T) * sigma)\n",
    "    d2 = d1 - np.sqrt(T) * sigma\n",
    "    return S * norm.cdf(d1) - K * np.exp(-r * T) * norm.cdf(d2)"
   ]
  },
  {
   "cell_type": "code",
   "execution_count": 3,
   "id": "eea0f989-71f2-482b-b60f-b450baf6ee11",
   "metadata": {},
   "outputs": [],
   "source": [
    "def BlackScholesPut(S, sigma, K, r, T):\n",
    "    d1 = (np.log(S/K) + (r+0.5*(sigma**2))*T) / (np.sqrt(T) * sigma)\n",
    "    d2 = d1 - np.sqrt(T) * sigma\n",
    "    return K * np.exp(-r*T) * norm.cdf(-d2) - S * norm.cdf(-d1)"
   ]
  },
  {
   "cell_type": "code",
   "execution_count": 23,
   "id": "abf8f0da-d299-4110-93b5-f9fb34c40491",
   "metadata": {},
   "outputs": [],
   "source": [
    "def BScallintegrand(S, sigma, K, r, T):\n",
    "    price = BlackScholesCall(S, sigma, K, r, T) / K**2\n",
    "    return price\n",
    "\n",
    "def BSputintegrand(S, sigma, K, r, T):\n",
    "    price = BlackScholesPut(S, sigma, K, r, T) / K**2\n",
    "    return price"
   ]
  },
  {
   "cell_type": "code",
   "execution_count": 24,
   "id": "c1ead1f2-c6be-46d8-9b6d-bf4cf5e348dd",
   "metadata": {},
   "outputs": [],
   "source": [
    "def varianceBlackScholes(S, sigma, r, T):\n",
    "    F = S*np.exp(r*T)\n",
    "    I_put = quad(lambda x: BSputintegrand(S, sigma, x, r, T), 1e-6, F)\n",
    "    I_call = quad(lambda x: BScallintegrand(S, sigma, x, r, T), F, np.inf)\n",
    "    E_var = (2*np.exp(r*T)/T) * (I_put[0] + I_call[0])\n",
    "    return E_var"
   ]
  },
  {
   "cell_type": "code",
   "execution_count": 25,
   "id": "ceaf8183-da0d-4bc8-bd33-3e50a049f629",
   "metadata": {},
   "outputs": [
    {
     "name": "stdout",
     "output_type": "stream",
     "text": [
      "Fair variance swap strike contract for SPX (Black-Scholes model): 0.03567\n"
     ]
    }
   ],
   "source": [
    "model_free_var_BS_SPX = varianceBlackScholes(SPX_index_val, static_vol_SPX, static_r, static_T/365)\n",
    "\n",
    "print(f\"Fair variance swap strike contract for SPX (Black-Scholes model): {model_free_var_BS_SPX:.5f}\")"
   ]
  },
  {
   "cell_type": "markdown",
   "id": "489539dd-e0dc-4852-9727-a0e8f0bb50da",
   "metadata": {},
   "source": [
    "### Bachelier Model"
   ]
  },
  {
   "cell_type": "code",
   "execution_count": 4,
   "id": "c5cc35a7-af8d-44bf-9e54-d9612156ce0b",
   "metadata": {},
   "outputs": [],
   "source": [
    "# Bachelier volatility multiply by S because it is measured in absolute terms\n",
    "# While Black-Scholes is measured in percentage\n",
    "def BachelierCall(S, sigma, K, r, T):\n",
    "    d1 = (S-K) / (sigma*S*np.sqrt(T))\n",
    "    return np.exp(-r*T) * ((S-K)*norm.cdf(d1) + sigma*S*np.sqrt(T)*norm.pdf(d1))"
   ]
  },
  {
   "cell_type": "code",
   "execution_count": 5,
   "id": "521c5752-a715-4240-b4a1-fe16f412f86c",
   "metadata": {},
   "outputs": [],
   "source": [
    "def BachelierPut(S, sigma, K, r, T):\n",
    "    d1 = (S-K) / (sigma*S*np.sqrt(T))\n",
    "    return np.exp(-r*T) * ((K-S) * norm.cdf(-d1) + sigma*S*np.sqrt(T)*norm.pdf(-d1))"
   ]
  },
  {
   "cell_type": "code",
   "execution_count": 26,
   "id": "989dad1f-967e-4837-8b98-ff9e5ff2b1df",
   "metadata": {},
   "outputs": [],
   "source": [
    "def bacheliercallintegrand(S, sigma, K, r, T):\n",
    "    price = BachelierCall(S, sigma, K, r, T) / K**2\n",
    "    return price\n",
    "\n",
    "def bachelierputintegrand(S, sigma, K, r, T):\n",
    "    price = BachelierPut(S, sigma, K, r, T) / K**2\n",
    "    return price"
   ]
  },
  {
   "cell_type": "code",
   "execution_count": 27,
   "id": "afb3590a-1401-4b1e-88e8-49f619dea897",
   "metadata": {},
   "outputs": [],
   "source": [
    "def varianceBachelier(S, sigma, r, T):\n",
    "    F = S*np.exp(r*T)\n",
    "    I_put = quad(lambda x: bachelierputintegrand(S, sigma, x, r, T), 1e-6, F)\n",
    "    I_call = quad(lambda x: bacheliercallintegrand(S, sigma, x, r, T), F, np.inf)\n",
    "    E_var = (2*np.exp(r*T)/T) * (I_put[0] + I_call[0])\n",
    "    return E_var"
   ]
  },
  {
   "cell_type": "code",
   "execution_count": 28,
   "id": "43c7849a-dc25-4b28-ba52-40bd1a74b360",
   "metadata": {},
   "outputs": [
    {
     "name": "stdout",
     "output_type": "stream",
     "text": [
      "Fair variance swap strike contract for SPX (Bachelier model): 0.03591\n"
     ]
    }
   ],
   "source": [
    "model_free_var_Bach_SPX = varianceBachelier(SPX_index_val, static_vol_SPX, static_r, static_T/365)\n",
    "\n",
    "print(f\"Fair variance swap strike contract for SPX (Bachelier model): {model_free_var_Bach_SPX:.5f}\")"
   ]
  },
  {
   "cell_type": "markdown",
   "id": "4357213e-85c0-422d-8964-4c24c15947d9",
   "metadata": {},
   "source": [
    "### Static-replication of European payoff (using calibrated SABR Model)"
   ]
  },
  {
   "cell_type": "code",
   "execution_count": 29,
   "id": "fe31e498-7fb5-45f4-b2cd-752235c97e2b",
   "metadata": {},
   "outputs": [],
   "source": [
    "def SABRCall(S, K, r, alpha, beta, rho, nu, T):\n",
    "    sabr_vol = SABR(S*np.exp(r*T), K, T, alpha, beta, rho, nu)\n",
    "    return BlackScholesCall(S, sabr_vol, K, r, T)\n",
    "\n",
    "\n",
    "def SABRPut(S, K, r, alpha, beta, rho, nu, T):\n",
    "    sabr_vol = SABR(S*np.exp(r*T), K, T, alpha, beta, rho, nu)\n",
    "    return BlackScholesPut(S, sabr_vol, K, r, T)\n",
    "\n",
    "\n",
    "def sabrcallintegrand_variance(K, S, r, T, alpha, beta, rho, nu):\n",
    "    price = SABRCall(S, K, r, alpha, beta, rho, nu, T) / K**2\n",
    "    return price\n",
    "\n",
    "\n",
    "def sabrputintegrand_variance(K, S, r, T, alpha, beta, rho, nu):\n",
    "    price = SABRPut(S, K, r, alpha, beta, rho, nu, T) / K**2\n",
    "    return price"
   ]
  },
  {
   "cell_type": "code",
   "execution_count": 30,
   "id": "6d4d4e07-91e6-425d-b714-f0a9d4137819",
   "metadata": {},
   "outputs": [],
   "source": [
    "def varianceSABR(S, r, T, alpha, beta, rho, nu):\n",
    "    F = S*np.exp(r*T)\n",
    "    I_put = quad(lambda x: sabrputintegrand_variance(x, S, r, T, alpha, beta, rho, nu), 1e-6, F)\n",
    "    I_call = quad(lambda x: sabrcallintegrand_variance(x, S, r, T, alpha, beta, rho, nu), F, np.inf)\n",
    "    E_var = (2*np.exp(r*T)/T) * (I_put[0] + I_call[0])\n",
    "    return E_var"
   ]
  },
  {
   "cell_type": "code",
   "execution_count": 31,
   "id": "28277375-7e73-4e93-9490-4026d92f7d6b",
   "metadata": {},
   "outputs": [
    {
     "name": "stdout",
     "output_type": "stream",
     "text": [
      "Fair variance swap strike contract for SPX (SABR model): 0.05151\n"
     ]
    }
   ],
   "source": [
    "model_free_var_SABR_SPX = varianceSABR(SPX_index_val,\n",
    "                                       static_r,\n",
    "                                       static_T/365,\n",
    "                                       SABR_alpha_SPX,\n",
    "                                       SABR_beta_SPX,\n",
    "                                       SABR_rho_SPX,\n",
    "                                       SABR_nu_SPX)\n",
    "\n",
    "print(f\"Fair variance swap strike contract for SPX (SABR model): {model_free_var_SABR_SPX:.5f}\")"
   ]
  }
 ],
 "metadata": {
  "kernelspec": {
   "display_name": "Python 3 (ipykernel)",
   "language": "python",
   "name": "python3"
  },
  "language_info": {
   "codemirror_mode": {
    "name": "ipython",
    "version": 3
   },
   "file_extension": ".py",
   "mimetype": "text/x-python",
   "name": "python",
   "nbconvert_exporter": "python",
   "pygments_lexer": "ipython3",
   "version": "3.11.0b5"
  }
 },
 "nbformat": 4,
 "nbformat_minor": 5
}
